{
 "cells": [
  {
   "cell_type": "markdown",
   "metadata": {},
   "source": [
    "## 1. CH08-연습문제 1번\n",
    "데이터셋의 차원을 축소하는 주요 목적은 무엇인가요? 대표적인 단점은 무엇인가요?"
   ]
  },
  {
   "cell_type": "markdown",
   "metadata": {},
   "source": [
    "차원 축소의 주요 목적\n",
    "- 훈련 속도를 높일 수 있다. \n",
    "- 잡음이나 불필요한 세부사항을 걸러내므로 성능을 높일 수 있다. \n",
    "- 데이터 시각화에 유용하다. (시각적인 패턴을 감지해 중요한 통찰을 얻을 수 있다)\n",
    "\n",
    "대표적인 단점 \n",
    "- 시스템의 성능이 나빠질 수 있다. \n",
    "- 작업 파이프라인이 더 복잡해지고 유지 관리가 어려워진다. "
   ]
  },
  {
   "cell_type": "markdown",
   "metadata": {},
   "source": [
    "## 2. CH08-연습문제 7번\n",
    " 어떤 데이터셋에 적용한 차원 축소 알고리즘의 성능을 어떻게 평가할 수 있을까요?"
   ]
  },
  {
   "cell_type": "markdown",
   "metadata": {},
   "source": [
    "차원 축소 시 원본 데이터의 정보 손실을 최소화하면서 축소시키는 것이 가장 바람직하다.\n",
    "\n",
    "\n",
    "PCA의 경우 주성분의 설명된 분산의 비율을 이용해서 각 주성분이 원본 데이터의 몇 퍼센트를 설명하는지 확인할 수 있다. 설명하는 비율이 높을수록 차원 축소가 효과적으로 된 것이다. 또 압축된 데이터셋에 PCA 투영 변환을 반대로 적용(역변환)한 재구성 데이터 사이의 평균 제곱 거리(재구성 오차)를 계산하여 성능을 평가할 수 있다. 그러나 모든 차원 축소 알고리즘이 설명된 분산의 비율이나 역변환을 제공하지 않는다.   \n",
    "\n",
    "\n",
    "한편 차원 축소는 주로 머신러닝 알고리즘을 사용하기 전에 전처리 단계로 활용되므로 차원 축소시키기 전 원본 데이터를 이용한 머신러닝 알고리즘의 정확도와 차원 축소 후 데이터를 이용한 머신러닝 알고리즘의 정확도를 비교하여 두 정확도를 비교하는 방법으로도 차원 축소 알고리즘의 성능을 평가할 수 있다. 두 정확도 사이 큰 차이가 없다면 차원 축소가 효과적으로, 즉 정보 손실을 최소화하는 방향으로 되었다고 할 수 있다.\n"
   ]
  },
  {
   "cell_type": "markdown",
   "metadata": {},
   "source": [
    "## 3. CH09-연습문제 3번\n",
    " k-평균을 사용할 때 적절한 클러스터 개수를 선택할 수 있는 두 가지 기법을 설명하세요."
   ]
  },
  {
   "cell_type": "markdown",
   "metadata": {},
   "source": [
    "1. 이너셔가 빠르게 감소하다가 느리게 감소하기 시작하는 부분, 즉 엘보일 때의 클러스터 개수를 선택한다. \n",
    "\n",
    "2. 실루엣 점수(모든 샘플에 대한 실루엣 계수의 평균)가 가장 높은 클러스터 개수로 선택한다. \n"
   ]
  },
  {
   "cell_type": "code",
   "execution_count": null,
   "metadata": {},
   "outputs": [],
   "source": []
  }
 ],
 "metadata": {
  "kernelspec": {
   "display_name": "testtest",
   "language": "python",
   "name": "testtest"
  },
  "language_info": {
   "codemirror_mode": {
    "name": "ipython",
    "version": 3
   },
   "file_extension": ".py",
   "mimetype": "text/x-python",
   "name": "python",
   "nbconvert_exporter": "python",
   "pygments_lexer": "ipython3",
   "version": "3.7.9"
  }
 },
 "nbformat": 4,
 "nbformat_minor": 4
}
